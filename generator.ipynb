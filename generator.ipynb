{
 "cells": [
  {
   "cell_type": "code",
   "execution_count": null,
   "metadata": {},
   "outputs": [
    {
     "name": "stdout",
     "output_type": "stream",
     "text": [
      "                     ID               Time  \\\n",
      "0      @realDonaldTrump   2009-05-04 13:54   \n",
      "1      @realDonaldTrump   2009-05-04 20:00   \n",
      "2      @realDonaldTrump   2009-05-08 08:38   \n",
      "3      @realDonaldTrump   2009-05-08 15:40   \n",
      "4      @realDonaldTrump   2009-05-12 09:07   \n",
      "...                 ...                ...   \n",
      "32347  @realDonaldTrump   2021-01-06 22:16   \n",
      "32348  @realDonaldTrump   2021-01-06 23:44   \n",
      "32349  @realDonaldTrump   2021-01-07 03:38   \n",
      "32350  @realDonaldTrump   2021-01-07 05:17   \n",
      "32351  @realDonaldTrump   2021-01-08 08:10   \n",
      "\n",
      "                                               Tweet URL  \\\n",
      "0       https://twitter.com/realDonaldTrump/status/16...   \n",
      "1       https://twitter.com/realDonaldTrump/status/17...   \n",
      "2       https://twitter.com/realDonaldTrump/status/17...   \n",
      "3       https://twitter.com/realDonaldTrump/status/17...   \n",
      "4       https://twitter.com/realDonaldTrump/status/17...   \n",
      "...                                                  ...   \n",
      "32347   https://twitter.com/realDonaldTrump/status/13...   \n",
      "32348   https://twitter.com/realDonaldTrump/status/13...   \n",
      "32349   https://twitter.com/realDonaldTrump/status/13...   \n",
      "32350   https://twitter.com/realDonaldTrump/status/13...   \n",
      "32351   https://twitter.com/realDonaldTrump/status/13...   \n",
      "\n",
      "                                              Tweet Text  \n",
      "0       \"Be sure to tune in and watch Donald Trump on...  \n",
      "1       \"Donald Trump will be appearing on The View t...  \n",
      "2       \"Donald Trump reads Top Ten Financial Tips on...  \n",
      "3       \"New Blog Post: Celebrity Apprentice Finale a...  \n",
      "4       \"'My persona will never be that of a wallflow...  \n",
      "...                                                  ...  \n",
      "32347                      \"Even Mexico uses Voter I.D.\"  \n",
      "32348   \"These scoundrels are only toying with the @s...  \n",
      "32349   \"Please support our Capitol Police and Law En...  \n",
      "32350                          \"https://t.co/Pm2PKV0Fp3\"  \n",
      "32351                          \"https://t.co/csX07ZVWGe\"  \n",
      "\n",
      "[32352 rows x 4 columns]\n"
     ]
    }
   ],
   "source": [
    "import pandas as pd \n",
    "\n",
    "df_before = pd.read_csv(\"data/realDonaldTrump_bf_office.csv\", on_bad_lines=\"skip\")\n",
    "df_during = pd.read_csv(\"data/realDonaldTrump_in_office.csv\", on_bad_lines=\"skip\")\n",
    "\n",
    "mean_tweets = pd.concat([df_before, dsf_during], ignore_index=True)\n",
    "\n",
    "print(mean_tweets)\n"
   ]
  }
 ],
 "metadata": {
  "kernelspec": {
   "display_name": "Python 3",
   "language": "python",
   "name": "python3"
  },
  "language_info": {
   "codemirror_mode": {
    "name": "ipython",
    "version": 3
   },
   "file_extension": ".py",
   "mimetype": "text/x-python",
   "name": "python",
   "nbconvert_exporter": "python",
   "pygments_lexer": "ipython3",
   "version": "3.11.5"
  }
 },
 "nbformat": 4,
 "nbformat_minor": 2
}
